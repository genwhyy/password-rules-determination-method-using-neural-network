{
 "cells": [
  {
   "cell_type": "code",
   "execution_count": 1,
   "metadata": {},
   "outputs": [],
   "source": [
    "import numpy as np\n",
    "import pandas as pd\n",
    "import torch\n",
    "import torch.nn as nn\n",
    "import torch.optim as optim\n",
    "from torch.utils.data import DataLoader, TensorDataset"
   ]
  },
  {
   "cell_type": "code",
   "execution_count": 2,
   "metadata": {},
   "outputs": [],
   "source": [
    "# === Параметры ===\n",
    "csv_path = 'dataset/combolist.csv'\n",
    "max_sequence_length = 50\n",
    "batch_size = 64\n",
    "embedding_dim = 64\n",
    "hidden_dim = 128\n",
    "num_epochs = 10"
   ]
  },
  {
   "cell_type": "code",
   "execution_count": 3,
   "metadata": {},
   "outputs": [],
   "source": [
    "df = pd.read_csv(csv_path)\n",
    "passwords = df['String'].astype(str).tolist()"
   ]
  },
  {
   "cell_type": "code",
   "execution_count": 4,
   "metadata": {},
   "outputs": [],
   "source": [
    "# === Добавляем базовый набор символов ===\n",
    "base_chars = set('abcdefghijklmnopqrstuvwxyzABCDEFGHIJKLMNOPQRSTUVWXYZ0123456789!@#$%^&*()-_=+[]{}|;:,.<>?/\\\\')\n",
    "chars = base_chars.union(set(''.join(passwords)))"
   ]
  },
  {
   "cell_type": "code",
   "execution_count": 5,
   "metadata": {},
   "outputs": [],
   "source": [
    "# === Токенизация ===\n",
    "char_to_idx = {char: idx + 1 for idx, char in enumerate(chars)}\n",
    "char_to_idx['<PAD>'] = 0\n",
    "char_to_idx['<UNK>'] = len(char_to_idx) + 1  # Токен для неизвестных символов\n",
    "\n",
    "idx_to_char = {idx: char for char, idx in char_to_idx.items()}"
   ]
  },
  {
   "cell_type": "code",
   "execution_count": 6,
   "metadata": {},
   "outputs": [],
   "source": [
    "\n",
    "# === Преобразуем пароли в индексы ===\n",
    "def encode_password(password):\n",
    "    return [char_to_idx.get(char, char_to_idx['<UNK>']) for char in password]\n",
    "\n",
    "sequences = [encode_password(password) for password in passwords]\n",
    "sequences = [seq[:max_sequence_length] + [0] * (max_sequence_length - len(seq)) for seq in sequences]\n",
    "\n",
    "X = torch.tensor(sequences, dtype=torch.long)\n"
   ]
  },
  {
   "cell_type": "code",
   "execution_count": 7,
   "metadata": {},
   "outputs": [],
   "source": [
    "# Генерация меток (сдвиг последовательности на 1 символ вперед)\n",
    "y = torch.tensor([seq[1:] + [0] for seq in sequences], dtype=torch.long)"
   ]
  },
  {
   "cell_type": "code",
   "execution_count": 8,
   "metadata": {},
   "outputs": [],
   "source": [
    "# === DataLoader ===\n",
    "dataset = TensorDataset(X, y)\n",
    "dataloader = DataLoader(dataset, batch_size=batch_size, shuffle=True)\n"
   ]
  },
  {
   "cell_type": "code",
   "execution_count": 9,
   "metadata": {},
   "outputs": [],
   "source": [
    "# === Архитектура LSTM ===\n",
    "class PasswordLSTM(nn.Module):\n",
    "    def __init__(self, vocab_size, embedding_dim, hidden_dim):\n",
    "        super(PasswordLSTM, self).__init__()\n",
    "        self.embedding = nn.Embedding(vocab_size, embedding_dim)\n",
    "        self.lstm = nn.LSTM(embedding_dim, hidden_dim, num_layers=2, batch_first=True)\n",
    "        self.fc = nn.Linear(hidden_dim, vocab_size)\n",
    "\n",
    "    def forward(self, x):\n",
    "        x = self.embedding(x)\n",
    "        x, _ = self.lstm(x)\n",
    "        x = self.fc(x)\n",
    "        return x"
   ]
  },
  {
   "cell_type": "code",
   "execution_count": 10,
   "metadata": {},
   "outputs": [],
   "source": [
    "# Инициализация модели\n",
    "vocab_size = len(char_to_idx)\n",
    "model = PasswordLSTM(vocab_size, embedding_dim, hidden_dim)"
   ]
  },
  {
   "cell_type": "code",
   "execution_count": 11,
   "metadata": {},
   "outputs": [],
   "source": [
    "# === Функция потерь и оптимизатор ===\n",
    "criterion = nn.CrossEntropyLoss()\n",
    "optimizer = optim.Adam(model.parameters(), lr=0.001)"
   ]
  },
  {
   "cell_type": "code",
   "execution_count": null,
   "metadata": {},
   "outputs": [
    {
     "name": "stdout",
     "output_type": "stream",
     "text": [
      "Epoch 1/10, Loss: 0.6691526705456763\n"
     ]
    }
   ],
   "source": [
    "# === Обучение модели ===\n",
    "for epoch in range(num_epochs):\n",
    "    total_loss = 0\n",
    "    for batch_x, batch_y in dataloader:\n",
    "        optimizer.zero_grad()\n",
    "        output = model(batch_x)\n",
    "        loss = criterion(output.view(-1, vocab_size), batch_y.view(-1))\n",
    "        loss.backward()\n",
    "        optimizer.step()\n",
    "        total_loss += loss.item()\n",
    "    print(f\"Epoch {epoch + 1}/{num_epochs}, Loss: {total_loss / len(dataloader)}\")"
   ]
  },
  {
   "cell_type": "code",
   "execution_count": null,
   "metadata": {},
   "outputs": [],
   "source": [
    "mutations = {\n",
    "    '0': 'o', '1': 'i', '2': 'z', '3': 'e', '4': 'a', '5': 's', '6': 'b', '7': 't', '8': 'b', '9': 'g',\n",
    "    'o': '0', 'i': '1', 'z': '2', 'e': '3', 'a': '4', 's': '5', 'b': '6', 't': '7', 'b': '8', 'g': '9',\n",
    "    '@': 'a', '$': 's', '!': 'i', '#': 'h', '&': 'and', '%': 'percent', '*': 'x', '+': 'plus', '=': 'equals'\n",
    "}"
   ]
  },
  {
   "cell_type": "code",
   "execution_count": null,
   "metadata": {},
   "outputs": [],
   "source": [
    "# === Лексические замены типа \"4ever\" ===\n",
    "complex_patterns = {\n",
    "    '4ever': 'forever',\n",
    "    '2day': 'today',\n",
    "    'b4': 'before',\n",
    "    'l8r': 'later',\n",
    "    'gr8': 'great',\n",
    "    '4u': 'for you',\n",
    "    'luv': 'love',\n",
    "    'u': 'you'\n",
    "}"
   ]
  },
  {
   "cell_type": "code",
   "execution_count": null,
   "metadata": {},
   "outputs": [],
   "source": [
    "# === Функция поиска паттернов ===\n",
    "def find_patterns(passwords):\n",
    "    patterns = {}\n",
    "    for password in passwords:\n",
    "        # Поиск часто повторяющихся подстрок\n",
    "        for length in range(3, 8):  # Длина паттернов от 3 до 8 символов\n",
    "            for i in range(len(password) - length + 1):\n",
    "                substring = password[i:i + length]\n",
    "                if substring in patterns:\n",
    "                    patterns[substring] += 1\n",
    "                else:\n",
    "                    patterns[substring] = 1\n",
    "\n",
    "    # Поиск сложных мутаций\n",
    "    mutation_patterns = {}\n",
    "    for password in passwords:\n",
    "        mutated = ''.join([mutations.get(char, char) for char in password])\n",
    "        if mutated != password:\n",
    "            mutation_patterns[mutated] = mutation_patterns.get(mutated, 0) + 1\n",
    "\n",
    "        # Усложненные мутации (типа leet)\n",
    "        leet_mutations = password.replace('a', '4').replace('s', '5').replace('e', '3').replace('o', '0').replace('i', '1').replace('t', '7')\n",
    "        if leet_mutations != password:\n",
    "            mutation_patterns[leet_mutations] = mutation_patterns.get(leet_mutations, 0) + 1\n",
    "\n",
    "    lexical_patterns = {}\n",
    "    for pattern, replacement in complex_patterns.items():\n",
    "        for password in passwords:\n",
    "            if pattern in password:\n",
    "                replaced = password.replace(pattern, replacement)\n",
    "                lexical_patterns[replaced] = lexical_patterns.get(replaced, 0) + 1\n",
    "\n",
    "    # Поиск \"заборчиков\" (чередование верхнего и нижнего регистра)\n",
    "    zigzag_patterns = {}\n",
    "    for password in passwords:\n",
    "        if any(char.isupper() for char in password) and any(char.islower() for char in password):\n",
    "            zigzag_patterns[password] = zigzag_patterns.get(password, 0) + 1\n",
    "\n",
    "    return patterns, mutation_patterns, zigzag_patterns, lexical_patterns"
   ]
  },
  {
   "cell_type": "code",
   "execution_count": null,
   "metadata": {},
   "outputs": [],
   "source": [
    "\n",
    "# === Получаем паттерны ===\n",
    "patterns, mutation_patterns, zigzag_patterns, lexical_patterns = find_patterns(passwords)"
   ]
  },
  {
   "cell_type": "code",
   "execution_count": null,
   "metadata": {},
   "outputs": [
    {
     "name": "stdout",
     "output_type": "stream",
     "text": [
      "✅ Модель обучена и паттерны сохранены в 'password_patterns.json'\n"
     ]
    }
   ],
   "source": [
    "# === Сохранение результатов ===\n",
    "import json\n",
    "result = {\n",
    "    \"frequent_patterns\": patterns,\n",
    "    \"mutation_patterns\": mutation_patterns,\n",
    "    \"zigzag_patterns\": zigzag_patterns,\n",
    "    \"lexical_patterns\": lexical_patterns\n",
    "}\n",
    "\n",
    "with open('password_patterns.json', 'w') as f:\n",
    "    json.dump(result, f, indent=4)\n",
    "\n",
    "print(\"✅ Модель обучена и паттерны сохранены в 'password_patterns.json'\")"
   ]
  }
 ],
 "metadata": {
  "kernelspec": {
   "display_name": "Python 3",
   "language": "python",
   "name": "python3"
  },
  "language_info": {
   "codemirror_mode": {
    "name": "ipython",
    "version": 3
   },
   "file_extension": ".py",
   "mimetype": "text/x-python",
   "name": "python",
   "nbconvert_exporter": "python",
   "pygments_lexer": "ipython3",
   "version": "3.11.9"
  }
 },
 "nbformat": 4,
 "nbformat_minor": 2
}
